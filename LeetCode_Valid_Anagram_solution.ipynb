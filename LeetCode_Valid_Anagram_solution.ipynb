{
  "nbformat": 4,
  "nbformat_minor": 0,
  "metadata": {
    "colab": {
      "name": "LeetCode_Valid Anagram_solution.ipynb",
      "provenance": [],
      "authorship_tag": "ABX9TyMj0SSRRYfFZNV9gIqHORZd",
      "include_colab_link": true
    },
    "kernelspec": {
      "name": "python3",
      "display_name": "Python 3"
    },
    "language_info": {
      "name": "python"
    }
  },
  "cells": [
    {
      "cell_type": "markdown",
      "metadata": {
        "id": "view-in-github",
        "colab_type": "text"
      },
      "source": [
        "<a href=\"https://colab.research.google.com/github/roshanbasnet/LeetCodeSolution/blob/main/LeetCode_Valid_Anagram_solution.ipynb\" target=\"_parent\"><img src=\"https://colab.research.google.com/assets/colab-badge.svg\" alt=\"Open In Colab\"/></a>"
      ]
    },
    {
      "cell_type": "markdown",
      "source": [
        "\n",
        "### Given two strings s and t, return true if t is an anagram of s, and false otherwise.\n",
        "\n",
        "#### Example 1:\n",
        "\n",
        "<pre>\n",
        "Input: s = \"anagram\", t = \"nagaram\"\n",
        "Output: true\n",
        "</pre>\n",
        "\n",
        "#### Example 2:\n",
        "<pre>\n",
        "Input: s = \"rat\", t = \"car\"\n",
        "Output: false\n",
        "</pre>\n"
      ],
      "metadata": {
        "id": "QjTkIqVbGIPp"
      }
    },
    {
      "cell_type": "markdown",
      "source": [
        "### Solution"
      ],
      "metadata": {
        "id": "biGS99-OGxv2"
      }
    },
    {
      "cell_type": "code",
      "execution_count": 23,
      "metadata": {
        "id": "q0nRKKHtGF81"
      },
      "outputs": [],
      "source": [
        "from collections import Counter\n",
        "class Solution:\n",
        "  def isAnagram(self,s:str,t: str) ->bool:\n",
        "\n",
        "    # 3rd approach: sorting both the string in the same order \n",
        "    ## which can be done using soted. Downside can be time complexity may increase\n",
        "    return sorted(s) ==sorted(t)\n",
        "\n",
        "    # 2nd  approach: Using the built in  Counter function\n",
        "    return Counter(s) == Counter(t)\n",
        "\n",
        "    if len(s) != len(t):\n",
        "      return False\n",
        "\n",
        "    countS, countT = {}, {}\n",
        "\n",
        "    for i in range(len(s)):\n",
        "      countS[s[i]] = 1 + countS.get(s[i],0)\n",
        "      countT[t[i]] = 1 + countT.get(t[i],0)\n",
        "    print(\"CountS: \",countS)\n",
        "    print(\"CountT: \",countT)\n",
        "\n",
        "    for c in countS:\n",
        "      if countS[c] != countT.get(c,0):\n",
        "        return False\n",
        "\n",
        "    return True    \n"
      ]
    },
    {
      "cell_type": "code",
      "source": [
        "s = \"anagram\"\n",
        "t = \"nagaram\"\n",
        "sol = Solution()\n",
        "sol.isAnagram(s,t)"
      ],
      "metadata": {
        "colab": {
          "base_uri": "https://localhost:8080/"
        },
        "id": "ZYuwrvLvIIAh",
        "outputId": "ffc01728-5dbc-46ee-b6cb-e1d0ff57a4d5"
      },
      "execution_count": 24,
      "outputs": [
        {
          "output_type": "stream",
          "name": "stdout",
          "text": [
            "CountS:  {'a': 3, 'n': 1, 'g': 1, 'r': 1, 'm': 1}\n",
            "CountT:  {'n': 1, 'a': 3, 'g': 1, 'r': 1, 'm': 1}\n"
          ]
        },
        {
          "output_type": "execute_result",
          "data": {
            "text/plain": [
              "True"
            ]
          },
          "metadata": {},
          "execution_count": 24
        }
      ]
    },
    {
      "cell_type": "code",
      "source": [
        "s = \"rat\"\n",
        "t = \"car\"\n",
        "sol = Solution()\n",
        "sol.isAnagram(s,t)"
      ],
      "metadata": {
        "colab": {
          "base_uri": "https://localhost:8080/"
        },
        "id": "zFmH37o0IouN",
        "outputId": "f0f0ca7a-50ed-456d-f3cb-feee167d109a"
      },
      "execution_count": 26,
      "outputs": [
        {
          "output_type": "stream",
          "name": "stdout",
          "text": [
            "CountS:  {'r': 1, 'a': 1, 't': 1}\n",
            "CountT:  {'c': 1, 'a': 1, 'r': 1}\n"
          ]
        },
        {
          "output_type": "execute_result",
          "data": {
            "text/plain": [
              "False"
            ]
          },
          "metadata": {},
          "execution_count": 26
        }
      ]
    },
    {
      "cell_type": "code",
      "source": [
        "# Follow of question\n",
        "\n",
        "# How can you make the Solution that we cannot need extra memories?\n",
        "# Can you make it happen in O(1)?\n",
        "\n",
        "# by Sorting the String\n",
        "\n",
        "# but time complexity may be increase.\n",
        "# O(n log n) is the optimal value for a comparison sort"
      ],
      "metadata": {
        "id": "w0LT6lvtKzbj"
      },
      "execution_count": null,
      "outputs": []
    }
  ]
}