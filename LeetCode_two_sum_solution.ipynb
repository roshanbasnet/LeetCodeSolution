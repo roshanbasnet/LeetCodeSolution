{
  "nbformat": 4,
  "nbformat_minor": 0,
  "metadata": {
    "colab": {
      "name": "LeetCode_two_sum_solution.ipynb",
      "provenance": [],
      "authorship_tag": "ABX9TyPudhBGsbLkQoA2LrGyUf1f",
      "include_colab_link": true
    },
    "kernelspec": {
      "name": "python3",
      "display_name": "Python 3"
    },
    "language_info": {
      "name": "python"
    }
  },
  "cells": [
    {
      "cell_type": "markdown",
      "metadata": {
        "id": "view-in-github",
        "colab_type": "text"
      },
      "source": [
        "<a href=\"https://colab.research.google.com/github/roshanbasnet/LeetCodeSolution/blob/main/LeetCode_two_sum_solution.ipynb\" target=\"_parent\"><img src=\"https://colab.research.google.com/assets/colab-badge.svg\" alt=\"Open In Colab\"/></a>"
      ]
    },
    {
      "cell_type": "markdown",
      "source": [
        "#### Given an array of integers nums and an integer target, return indices of the two numbers such that they add up to target.\n",
        "\n",
        "You may assume that each input would have exactly one solution, and you may not use the same element twice.\n",
        "\n",
        "You can return the answer in any order.\n",
        "\n",
        "#### Example 1:\n",
        "<pre>\n",
        "Input: nums = [2,7,11,15], target = 9\n",
        "Output: [0,1]\n",
        "Output: Because nums[0] + nums[1] == 9, we return [0, 1].\n",
        "</pre>\n",
        "\n",
        "#### Example 2:\n",
        "<pre>\n",
        "Input: nums = [3,2,4], target = 6\n",
        "Output: [1,2]\n",
        "</pre>\n",
        "\n",
        "#### Example 3:\n",
        "<pre>\n",
        "Input: nums = [3,3], target = 6\n",
        "Output: [0,1]\n",
        "</pre>"
      ],
      "metadata": {
        "id": "Rldt1iImqSb6"
      }
    },
    {
      "cell_type": "markdown",
      "source": [
        "#### Solution Approach\n",
        "\n",
        "req_num = target - num\n",
        "\n",
        "for example:\n",
        "<pre>\n",
        "Index            0, 1, 2, 3\n",
        "list of numbers [2,7,11,15]\n",
        "target = 9\n",
        "\n",
        "checking if target is in the hasmap\n",
        "\n",
        "Hasmap\n",
        "val: index \n",
        "2: 0  for first element since 9-2 = 7, so 7 is not in the list so added the value in the dictionary with index 0\n",
        "Move into next element\n",
        "7:1 second element, since 9-7 =2, Since 2 is in the dictionary. so we found our values thats matches the target. so return index of those elementss\n",
        "\n",
        "</pre>\n",
        "\n"
      ],
      "metadata": {
        "id": "LRz4jlBPu0sA"
      }
    },
    {
      "cell_type": "code",
      "execution_count": null,
      "metadata": {
        "id": "lCiYApGtqFbe"
      },
      "outputs": [],
      "source": [
        "# Dictionary methods\n",
        "class Solution:\n",
        "  def twoSum(self, nums, target):\n",
        "    prev_dict = {}\n",
        "    for i,num in enumerate(nums):\n",
        "        diff = target-num\n",
        "        print(\"index =\", i,\"Number= \",num,\"Difference= \",diff)\n",
        "        if diff in prev_dict:\n",
        "          return [prev_dict[diff],i]\n",
        "        prev_dict[num] = i\n",
        "    return None"
      ]
    },
    {
      "cell_type": "code",
      "source": [
        "# Test Case 1\n",
        "sol = Solution()\n",
        "nums = [2,7,11,15]\n",
        "target = 9\n",
        "\n",
        "print (sol.twoSum(nums,target))"
      ],
      "metadata": {
        "colab": {
          "base_uri": "https://localhost:8080/"
        },
        "id": "frZC3UKKsZbJ",
        "outputId": "47e1aed8-1bdf-4017-b5ea-7e35b7bdc299"
      },
      "execution_count": null,
      "outputs": [
        {
          "output_type": "stream",
          "name": "stdout",
          "text": [
            "index = 0 Number=  2 Difference=  7\n",
            "index = 1 Number=  7 Difference=  2\n",
            "[0, 1]\n"
          ]
        }
      ]
    },
    {
      "cell_type": "code",
      "source": [
        "# Test case 2\n",
        "sol = Solution()\n",
        "nums = [3,2,4]\n",
        "target = 6\n",
        "\n",
        "print (sol.twoSum(nums,target))"
      ],
      "metadata": {
        "colab": {
          "base_uri": "https://localhost:8080/"
        },
        "id": "gQw2j0XUscZZ",
        "outputId": "53a87997-95a4-479b-a954-7a8c602524fb"
      },
      "execution_count": null,
      "outputs": [
        {
          "output_type": "stream",
          "name": "stdout",
          "text": [
            "index = 0 Number=  3 Difference=  3\n",
            "index = 1 Number=  2 Difference=  4\n",
            "index = 2 Number=  4 Difference=  2\n",
            "[1, 2]\n"
          ]
        }
      ]
    },
    {
      "cell_type": "code",
      "source": [
        "# Test case 3\n",
        "sol = Solution()\n",
        "nums = [3,3]\n",
        "target = 6\n",
        "\n",
        "print (sol.twoSum(nums,target))"
      ],
      "metadata": {
        "colab": {
          "base_uri": "https://localhost:8080/"
        },
        "id": "ai6F5ybtsjj1",
        "outputId": "2982dcaf-ecc3-4a8a-d317-77b3c5c6cb17"
      },
      "execution_count": null,
      "outputs": [
        {
          "output_type": "stream",
          "name": "stdout",
          "text": [
            "index = 0 Number=  3 Difference=  3\n",
            "index = 1 Number=  3 Difference=  3\n",
            "[0, 1]\n"
          ]
        }
      ]
    }
  ]
}