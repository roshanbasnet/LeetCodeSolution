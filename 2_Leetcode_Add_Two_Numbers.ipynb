{
  "nbformat": 4,
  "nbformat_minor": 0,
  "metadata": {
    "colab": {
      "name": "2.Leetcode_Add_Two_Numbers.ipynb",
      "provenance": [],
      "authorship_tag": "ABX9TyMUy1sLp7R3X3KTDe1fF/dx",
      "include_colab_link": true
    },
    "kernelspec": {
      "name": "python3",
      "display_name": "Python 3"
    },
    "language_info": {
      "name": "python"
    }
  },
  "cells": [
    {
      "cell_type": "markdown",
      "metadata": {
        "id": "view-in-github",
        "colab_type": "text"
      },
      "source": [
        "<a href=\"https://colab.research.google.com/github/roshanbasnet/LeetCodeSolution/blob/main/2_Leetcode_Add_Two_Numbers.ipynb\" target=\"_parent\"><img src=\"https://colab.research.google.com/assets/colab-badge.svg\" alt=\"Open In Colab\"/></a>"
      ]
    },
    {
      "cell_type": "markdown",
      "source": [
        "You are given two non-empty linked lists representing two non-negative integers. The digits are stored in reverse order, and each of their nodes contains a single digit. Add the two numbers and return the sum as a linked list.\n",
        "\n",
        "You may assume the two numbers do not contain any leading zero, except the number 0 itself.\n",
        "\n",
        "####Example 1:\n",
        "\n",
        "<pre>\n",
        "Input: l1 = [2,4,3], l2 = [5,6,4]\n",
        "Output: [7,0,8]\n",
        "Explanation: 342 + 465 = 807.\n",
        "</pre>\n",
        "#### Example 2:\n",
        "\n",
        "<pre>\n",
        "Input: l1 = [0], l2 = [0]\n",
        "Output: [0]\n",
        "</pre>\n",
        "##### Example 3:\n",
        "<pre>\n",
        "Input: l1 = [9,9,9,9,9,9,9], l2 = [9,9,9,9]\n",
        "Output: [8,9,9,9,0,0,0,1]\n",
        "</pre>\n",
        "\n",
        "#### Constraints:\n",
        "\n",
        "The number of nodes in each linked list is in the range [1, 100].\n",
        "0 <= Node.val <= 9\n",
        "It is guaranteed that the list represents a number that does not have leading zeros.\n"
      ],
      "metadata": {
        "id": "0ZxNxq_XPCvE"
      }
    },
    {
      "cell_type": "code",
      "execution_count": 1,
      "metadata": {
        "id": "Xoyx7xdeOrWO"
      },
      "outputs": [],
      "source": [
        "# Definition for singly-linked list.\n",
        "from typing import Optional\n",
        "\n",
        "class ListNode:\n",
        "    def __init__(self, val=0, next=None):\n",
        "        self.val = val\n",
        "        self.next = next\n",
        "\n",
        "class Solution(ListNode):\n",
        "    def addTwoNumbers(self, l1: Optional[ListNode], l2: Optional[ListNode]) -> Optional[ListNode]:\n",
        "      dummy = ListNode()\n",
        "      cur = dummy\n",
        "\n",
        "      carry = 0\n",
        "      print(l1.val)\n",
        "      while l1 or l2 or carry:\n",
        "        v1 = l1.val if l1 else 0\n",
        "        v2 = l2.val if l2 else 0\n",
        "\n",
        "        # new \n",
        "        val = v1+v2+carry\n",
        "        carry = val // 10\n",
        "        val = val % 10\n",
        "        cur.next = ListNode(val)\n",
        "\n",
        "        #update ptrs\n",
        "        cur = cur.next\n",
        "        l1 = l1.next if l1 else None\n",
        "        l2 = l2.next if l2 else None\n",
        "      # 8 + 7 \n",
        "      return dummy.next"
      ]
    }
  ]
}